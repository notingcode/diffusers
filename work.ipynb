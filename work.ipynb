{
 "cells": [
  {
   "cell_type": "code",
   "execution_count": 29,
   "metadata": {},
   "outputs": [],
   "source": [
    "import cv2\n",
    "import os\n",
    "from pathlib import Path"
   ]
  },
  {
   "cell_type": "code",
   "execution_count": 44,
   "metadata": {},
   "outputs": [],
   "source": [
    "dataset = Path(\"yuna_kim_dataset\")"
   ]
  },
  {
   "cell_type": "code",
   "execution_count": 45,
   "metadata": {},
   "outputs": [],
   "source": [
    "img_files = dataset.glob(\"*\")"
   ]
  },
  {
   "cell_type": "code",
   "execution_count": 46,
   "metadata": {},
   "outputs": [
    {
     "name": "stderr",
     "output_type": "stream",
     "text": [
      "libpng warning: iCCP: known incorrect sRGB profile\n"
     ]
    },
    {
     "ename": "error",
     "evalue": "OpenCV(4.8.0) /io/opencv/modules/imgproc/src/resize.cpp:4062: error: (-215:Assertion failed) !ssize.empty() in function 'resize'\n",
     "output_type": "error",
     "traceback": [
      "\u001b[0;31m---------------------------------------------------------------------------\u001b[0m",
      "\u001b[0;31merror\u001b[0m                                     Traceback (most recent call last)",
      "\u001b[1;32m/home/notingcode/Projects/diffusers/work.ipynb Cell 4\u001b[0m line \u001b[0;36m8\n\u001b[1;32m      <a href='vscode-notebook-cell:/home/notingcode/Projects/diffusers/work.ipynb#W4sZmlsZQ%3D%3D?line=5'>6</a>\u001b[0m \u001b[39melse\u001b[39;00m:\n\u001b[1;32m      <a href='vscode-notebook-cell:/home/notingcode/Projects/diffusers/work.ipynb#W4sZmlsZQ%3D%3D?line=6'>7</a>\u001b[0m     img \u001b[39m=\u001b[39m cv2\u001b[39m.\u001b[39mimread(os\u001b[39m.\u001b[39mpath\u001b[39m.\u001b[39mabspath(file), cv2\u001b[39m.\u001b[39mIMREAD_UNCHANGED)\n\u001b[0;32m----> <a href='vscode-notebook-cell:/home/notingcode/Projects/diffusers/work.ipynb#W4sZmlsZQ%3D%3D?line=7'>8</a>\u001b[0m new_img \u001b[39m=\u001b[39m cv2\u001b[39m.\u001b[39;49mresize(img, (\u001b[39m1024\u001b[39;49m,\u001b[39m1024\u001b[39;49m), interpolation\u001b[39m=\u001b[39;49mcv2\u001b[39m.\u001b[39;49mINTER_CUBIC)\n\u001b[1;32m     <a href='vscode-notebook-cell:/home/notingcode/Projects/diffusers/work.ipynb#W4sZmlsZQ%3D%3D?line=9'>10</a>\u001b[0m dir_located \u001b[39m=\u001b[39m os\u001b[39m.\u001b[39mpath\u001b[39m.\u001b[39mdirname(file)\n\u001b[1;32m     <a href='vscode-notebook-cell:/home/notingcode/Projects/diffusers/work.ipynb#W4sZmlsZQ%3D%3D?line=11'>12</a>\u001b[0m cv2\u001b[39m.\u001b[39mimwrite(os\u001b[39m.\u001b[39mpath\u001b[39m.\u001b[39mjoin(dir_located, \u001b[39m\"\u001b[39m\u001b[39mresized\u001b[39m\u001b[39m\"\u001b[39m, \u001b[39mf\u001b[39m\u001b[39m\"\u001b[39m\u001b[39m{\u001b[39;00mfilename_head\u001b[39m}\u001b[39;00m\u001b[39m{\u001b[39;00midx\u001b[39m}\u001b[39;00m\u001b[39m.png\u001b[39m\u001b[39m\"\u001b[39m), new_img)\n",
      "\u001b[0;31merror\u001b[0m: OpenCV(4.8.0) /io/opencv/modules/imgproc/src/resize.cpp:4062: error: (-215:Assertion failed) !ssize.empty() in function 'resize'\n"
     ]
    }
   ],
   "source": [
    "filename_head = \"yuna_kim_\"\n",
    "\n",
    "for idx, file in enumerate(img_files):\n",
    "    img = cv2.imread(os.path.abspath(file))\n",
    "    \n",
    "    \n",
    "    \n",
    "    new_img = cv2.resize(img, (1024,1024), interpolation=cv2.INTER_CUBIC)\n",
    "    \n",
    "    dir_located = os.path.dirname(file)\n",
    "    \n",
    "    cv2.imwrite(os.path.join(dir_located, \"resized\", f\"{filename_head}{idx}.png\"), new_img)"
   ]
  },
  {
   "cell_type": "code",
   "execution_count": null,
   "metadata": {},
   "outputs": [],
   "source": []
  }
 ],
 "metadata": {
  "kernelspec": {
   "display_name": "sdxl",
   "language": "python",
   "name": "python3"
  },
  "language_info": {
   "codemirror_mode": {
    "name": "ipython",
    "version": 3
   },
   "file_extension": ".py",
   "mimetype": "text/x-python",
   "name": "python",
   "nbconvert_exporter": "python",
   "pygments_lexer": "ipython3",
   "version": "3.11.4"
  },
  "orig_nbformat": 4
 },
 "nbformat": 4,
 "nbformat_minor": 2
}
